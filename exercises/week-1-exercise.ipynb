{
 "cells": [
  {
   "cell_type": "markdown",
   "metadata": {},
   "source": [
    "## Week 1"
   ]
  },
  {
   "cell_type": "markdown",
   "metadata": {},
   "source": [
    "### Exercise 1:\n",
    "Write a function that receives a list as parameter and return how many elements it has; if it doesn't have any element return an error."
   ]
  },
  {
   "cell_type": "markdown",
   "metadata": {},
   "source": [
    "#### Solution 1:"
   ]
  },
  {
   "cell_type": "code",
   "execution_count": 5,
   "metadata": {},
   "outputs": [],
   "source": [
    "def eleman_sayisi(liste):\n",
    "    \"\"\"\n",
    "    Fonksiyon, bir liste parametresi alır ve listenin içindeki eleman sayısını döndürür.\n",
    "    Liste boşsa, ValueError hatası oluşturur.\n",
    "\n",
    "    Parametreler:\n",
    "    - liste: Girdi olarak alınan liste.\n",
    "\n",
    "    Döndürülen:\n",
    "    - int: Liste içindeki eleman sayısı.\n",
    "\n",
    "    Hata:\n",
    "    - ValueError: Girilen listenin boş olması.\n",
    "    \"\"\"\n",
    "    # Listenin boş olup olmadığı kontrol ediliyor.\n",
    "    if not liste:\n",
    "        raise ValueError(\"Hata: Liste boş. Liste eleman içermelidir.\")\n",
    "\n",
    "    # Listenin eleman sayısı len() fonksiyonu ile hesaplanıp döndürülüyor.\n",
    "    return len(liste)"
   ]
  },
  {
   "cell_type": "code",
   "execution_count": 10,
   "metadata": {},
   "outputs": [
    {
     "name": "stdout",
     "output_type": "stream",
     "text": [
      "Listenin içindeki eleman sayısı: 4\n"
     ]
    }
   ],
   "source": [
    "# Deneme için bir liste oluşturuluyor.\n",
    "deneme_liste = [1, 2, 3, 4]\n",
    "\n",
    "# eleman_sayisi fonksiyonu çağrılıyor ve dönen değer sonuc değişkenine atanıyor.\n",
    "sonuc = eleman_sayisi(deneme_liste)\n",
    "\n",
    "# Elde edilen sonuç ekrana yazdırılıyor.\n",
    "print(f\"Listenin içindeki eleman sayısı: {sonuc}\")\n"
   ]
  },
  {
   "cell_type": "markdown",
   "metadata": {},
   "source": [
    "### Exercise 2:\n",
    "Write a function that receives a string as parameter and return the number of each character in it."
   ]
  },
  {
   "cell_type": "code",
   "execution_count": 11,
   "metadata": {},
   "outputs": [
    {
     "name": "stdout",
     "output_type": "stream",
     "text": [
      "Karakter Sayıları:\n",
      "'A': 2\n",
      "'d': 2\n",
      "'a': 3\n",
      "' ': 2\n",
      "'L': 1\n",
      "'o': 1\n",
      "'v': 1\n",
      "'e': 2\n",
      "'l': 1\n",
      "'c': 1\n",
      "'k': 1\n",
      "'m': 1\n",
      "'i': 1\n"
     ]
    }
   ],
   "source": [
    "def karakter_say(dizi):\n",
    "\n",
    "    \"\"\"\n",
    "    Fonksiyon, bir karakter dizisi alır ve her bir karakterin kaç kez geçtiğini hesaplayarak\n",
    "    sözlükte saklar. \n",
    "    \n",
    "    Parametreler:\n",
    "    - dizi: Girdi olarak alınan karakter dizisi.\n",
    "\n",
    "    Döndürülen:\n",
    "    - dict: Karakterlerin sayılarına ilişkin sözlük.\n",
    "    \n",
    "    \"\"\"\n",
    "\n",
    "    # Karakter sayılarını saklamak için bir sözlük oluşturuluyor.\n",
    "    karakter_sayilari = {}\n",
    "\n",
    "    # Dizideki her bir karakterin sayısını hesaplayan döngü.\n",
    "    for karakter in dizi:\n",
    "        # Eğer karakter sözlükte varsa, sayısını bir artır.\n",
    "        if karakter in karakter_sayilari:\n",
    "            karakter_sayilari[karakter] += 1\n",
    "        # Eğer karakter sözlükte yoksa, sözlüğe eklenip sayısı 1 yapılır.    \n",
    "        else:\n",
    "            karakter_sayilari[karakter] = 1\n",
    "\n",
    "    return karakter_sayilari\n",
    "\n",
    "\n",
    "# Deneme için bir karakter dizisi oluşturuluyor.\n",
    "deneme_dizi = \"Ada Lovelace Akademi\"\n",
    "\n",
    "# karakter_say fonksiyonu çağrılıyor. \n",
    "sonuc = karakter_say(deneme_dizi)\n",
    "\n",
    "# Elde edilen sonuç ekrana yazdırılıyor.\n",
    "print(\"Karakter Sayıları:\")\n",
    "for karakter, sayi in sonuc.items():\n",
    "    print(f\"'{karakter}': {sayi}\")"
   ]
  },
  {
   "cell_type": "code",
   "execution_count": null,
   "metadata": {},
   "outputs": [],
   "source": []
  }
 ],
 "metadata": {
  "kernelspec": {
   "display_name": "Python 3",
   "language": "python",
   "name": "python3"
  },
  "language_info": {
   "codemirror_mode": {
    "name": "ipython",
    "version": 3
   },
   "file_extension": ".py",
   "mimetype": "text/x-python",
   "name": "python",
   "nbconvert_exporter": "python",
   "pygments_lexer": "ipython3",
   "version": "3.11.4"
  }
 },
 "nbformat": 4,
 "nbformat_minor": 2
}
